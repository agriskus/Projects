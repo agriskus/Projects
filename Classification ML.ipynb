{
 "cells": [
  {
   "cell_type": "code",
   "execution_count": 66,
   "id": "f17a939d",
   "metadata": {
    "ExecuteTime": {
     "end_time": "2023-12-17T17:21:31.400632Z",
     "start_time": "2023-12-17T17:21:30.899469Z"
    },
    "tags": []
   },
   "outputs": [],
   "source": [
    "#imports\n",
    "import pandas as pd\n",
    "import numpy as np\n",
    "import matplotlib.pyplot as plt\n",
    "import seaborn as sns\n",
    "from sklearn.model_selection import train_test_split\n",
    "from sklearn.preprocessing import StandardScaler, MinMaxScaler, RobustScaler\n",
    "import scipy.stats as stats\n",
    "from sklearn.linear_model import LogisticRegression\n",
    "from sklearn.feature_selection import RFE\n",
    "from sklearn.linear_model import LassoCV\n",
    "from sklearn.metrics import classification_report\n",
    "from sklearn.impute import KNNImputer\n",
    "from sklearn.tree import DecisionTreeClassifier\n",
    "from sklearn.preprocessing import OneHotEncoder\n",
    "from sklearn.ensemble import RandomForestClassifier, ExtraTreesClassifier\n",
    "\n",
    "import warnings\n",
    "warnings.filterwarnings(\"ignore\", category=DeprecationWarning)\n",
    "warnings.filterwarnings(\"ignore\", category=FutureWarning)\n",
    "warnings.filterwarnings(\"ignore\", category=UserWarning)"
   ]
  },
  {
   "cell_type": "markdown",
   "id": "bb9b676e",
   "metadata": {},
   "source": [
    "**EDA AND FILLING NULL VALUES**"
   ]
  },
  {
   "cell_type": "code",
   "execution_count": 67,
   "id": "c59f296e",
   "metadata": {
    "ExecuteTime": {
     "end_time": "2023-12-17T17:21:54.093476Z",
     "start_time": "2023-12-17T17:21:54.060608Z"
    },
    "tags": []
   },
   "outputs": [],
   "source": [
    "# reading csv files \n",
    "data_train = pd.read_csv('Project_train_dataset.csv', index_col='Student ID')"
   ]
  },
  {
   "cell_type": "code",
   "execution_count": 68,
   "id": "227263ba",
   "metadata": {
    "ExecuteTime": {
     "end_time": "2023-12-17T17:21:54.659059Z",
     "start_time": "2023-12-17T17:21:54.645348Z"
    },
    "tags": []
   },
   "outputs": [
    {
     "data": {
      "text/html": [
       "<div>\n",
       "<style scoped>\n",
       "    .dataframe tbody tr th:only-of-type {\n",
       "        vertical-align: middle;\n",
       "    }\n",
       "\n",
       "    .dataframe tbody tr th {\n",
       "        vertical-align: top;\n",
       "    }\n",
       "\n",
       "    .dataframe thead th {\n",
       "        text-align: right;\n",
       "    }\n",
       "</style>\n",
       "<table border=\"1\" class=\"dataframe\">\n",
       "  <thead>\n",
       "    <tr style=\"text-align: right;\">\n",
       "      <th></th>\n",
       "      <th>Program</th>\n",
       "      <th>Student Gender</th>\n",
       "      <th>Experience Level</th>\n",
       "      <th>Student Siblings</th>\n",
       "      <th>Student Family</th>\n",
       "      <th>Financial Background</th>\n",
       "      <th>School Dormitory</th>\n",
       "      <th>School of Origin</th>\n",
       "      <th>Student Social Influence</th>\n",
       "      <th>Favourite Study Element</th>\n",
       "      <th>Admitted in School</th>\n",
       "    </tr>\n",
       "    <tr>\n",
       "      <th>Student ID</th>\n",
       "      <th></th>\n",
       "      <th></th>\n",
       "      <th></th>\n",
       "      <th></th>\n",
       "      <th></th>\n",
       "      <th></th>\n",
       "      <th></th>\n",
       "      <th></th>\n",
       "      <th></th>\n",
       "      <th></th>\n",
       "      <th></th>\n",
       "    </tr>\n",
       "  </thead>\n",
       "  <tbody>\n",
       "    <tr>\n",
       "      <th>1</th>\n",
       "      <td>Sorcery School</td>\n",
       "      <td>male</td>\n",
       "      <td>22.0</td>\n",
       "      <td>1</td>\n",
       "      <td>0</td>\n",
       "      <td>7.2500</td>\n",
       "      <td>NaN</td>\n",
       "      <td>Mystic Academy</td>\n",
       "      <td>18</td>\n",
       "      <td>Fire</td>\n",
       "      <td>0</td>\n",
       "    </tr>\n",
       "    <tr>\n",
       "      <th>2</th>\n",
       "      <td>Magi Academy</td>\n",
       "      <td>female</td>\n",
       "      <td>38.0</td>\n",
       "      <td>1</td>\n",
       "      <td>0</td>\n",
       "      <td>71.2833</td>\n",
       "      <td>Cottage Chamber</td>\n",
       "      <td>Eldertree Enclave</td>\n",
       "      <td>7</td>\n",
       "      <td>Fire</td>\n",
       "      <td>1</td>\n",
       "    </tr>\n",
       "    <tr>\n",
       "      <th>3</th>\n",
       "      <td>Sorcery School</td>\n",
       "      <td>female</td>\n",
       "      <td>26.0</td>\n",
       "      <td>0</td>\n",
       "      <td>0</td>\n",
       "      <td>7.9250</td>\n",
       "      <td>NaN</td>\n",
       "      <td>Mystic Academy</td>\n",
       "      <td>12</td>\n",
       "      <td>Air</td>\n",
       "      <td>1</td>\n",
       "    </tr>\n",
       "    <tr>\n",
       "      <th>5</th>\n",
       "      <td>Sorcery School</td>\n",
       "      <td>male</td>\n",
       "      <td>35.0</td>\n",
       "      <td>0</td>\n",
       "      <td>0</td>\n",
       "      <td>8.0500</td>\n",
       "      <td>NaN</td>\n",
       "      <td>Mystic Academy</td>\n",
       "      <td>12</td>\n",
       "      <td>Air</td>\n",
       "      <td>0</td>\n",
       "    </tr>\n",
       "    <tr>\n",
       "      <th>6</th>\n",
       "      <td>Sorcery School</td>\n",
       "      <td>male</td>\n",
       "      <td>NaN</td>\n",
       "      <td>0</td>\n",
       "      <td>0</td>\n",
       "      <td>8.4583</td>\n",
       "      <td>NaN</td>\n",
       "      <td>Arcan Institute</td>\n",
       "      <td>11</td>\n",
       "      <td>Earth</td>\n",
       "      <td>0</td>\n",
       "    </tr>\n",
       "    <tr>\n",
       "      <th>...</th>\n",
       "      <td>...</td>\n",
       "      <td>...</td>\n",
       "      <td>...</td>\n",
       "      <td>...</td>\n",
       "      <td>...</td>\n",
       "      <td>...</td>\n",
       "      <td>...</td>\n",
       "      <td>...</td>\n",
       "      <td>...</td>\n",
       "      <td>...</td>\n",
       "      <td>...</td>\n",
       "    </tr>\n",
       "    <tr>\n",
       "      <th>883</th>\n",
       "      <td>Sorcery School</td>\n",
       "      <td>female</td>\n",
       "      <td>22.0</td>\n",
       "      <td>0</td>\n",
       "      <td>0</td>\n",
       "      <td>10.5167</td>\n",
       "      <td>NaN</td>\n",
       "      <td>Mystic Academy</td>\n",
       "      <td>17</td>\n",
       "      <td>Earth</td>\n",
       "      <td>0</td>\n",
       "    </tr>\n",
       "    <tr>\n",
       "      <th>884</th>\n",
       "      <td>Witchcraft Institute</td>\n",
       "      <td>male</td>\n",
       "      <td>28.0</td>\n",
       "      <td>0</td>\n",
       "      <td>0</td>\n",
       "      <td>10.5000</td>\n",
       "      <td>NaN</td>\n",
       "      <td>Mystic Academy</td>\n",
       "      <td>9</td>\n",
       "      <td>Water</td>\n",
       "      <td>0</td>\n",
       "    </tr>\n",
       "    <tr>\n",
       "      <th>887</th>\n",
       "      <td>Witchcraft Institute</td>\n",
       "      <td>male</td>\n",
       "      <td>27.0</td>\n",
       "      <td>0</td>\n",
       "      <td>0</td>\n",
       "      <td>13.0000</td>\n",
       "      <td>NaN</td>\n",
       "      <td>Mystic Academy</td>\n",
       "      <td>8</td>\n",
       "      <td>Water</td>\n",
       "      <td>0</td>\n",
       "    </tr>\n",
       "    <tr>\n",
       "      <th>888</th>\n",
       "      <td>Magi Academy</td>\n",
       "      <td>female</td>\n",
       "      <td>19.0</td>\n",
       "      <td>0</td>\n",
       "      <td>0</td>\n",
       "      <td>30.0000</td>\n",
       "      <td>Mystical Chamber</td>\n",
       "      <td>Mystic Academy</td>\n",
       "      <td>2</td>\n",
       "      <td>Earth</td>\n",
       "      <td>1</td>\n",
       "    </tr>\n",
       "    <tr>\n",
       "      <th>889</th>\n",
       "      <td>Sorcery School</td>\n",
       "      <td>female</td>\n",
       "      <td>NaN</td>\n",
       "      <td>1</td>\n",
       "      <td>2</td>\n",
       "      <td>23.4500</td>\n",
       "      <td>NaN</td>\n",
       "      <td>Mystic Academy</td>\n",
       "      <td>23</td>\n",
       "      <td>Fire</td>\n",
       "      <td>0</td>\n",
       "    </tr>\n",
       "  </tbody>\n",
       "</table>\n",
       "<p>713 rows × 11 columns</p>\n",
       "</div>"
      ],
      "text/plain": [
       "                         Program Student Gender  Experience Level  \\\n",
       "Student ID                                                          \n",
       "1                 Sorcery School           male              22.0   \n",
       "2                   Magi Academy         female              38.0   \n",
       "3                 Sorcery School         female              26.0   \n",
       "5                 Sorcery School           male              35.0   \n",
       "6                 Sorcery School           male               NaN   \n",
       "...                          ...            ...               ...   \n",
       "883               Sorcery School         female              22.0   \n",
       "884         Witchcraft Institute           male              28.0   \n",
       "887         Witchcraft Institute           male              27.0   \n",
       "888                 Magi Academy         female              19.0   \n",
       "889               Sorcery School         female               NaN   \n",
       "\n",
       "            Student Siblings  Student Family  Financial Background  \\\n",
       "Student ID                                                           \n",
       "1                          1               0                7.2500   \n",
       "2                          1               0               71.2833   \n",
       "3                          0               0                7.9250   \n",
       "5                          0               0                8.0500   \n",
       "6                          0               0                8.4583   \n",
       "...                      ...             ...                   ...   \n",
       "883                        0               0               10.5167   \n",
       "884                        0               0               10.5000   \n",
       "887                        0               0               13.0000   \n",
       "888                        0               0               30.0000   \n",
       "889                        1               2               23.4500   \n",
       "\n",
       "            School Dormitory   School of Origin  Student Social Influence  \\\n",
       "Student ID                                                                  \n",
       "1                        NaN     Mystic Academy                        18   \n",
       "2            Cottage Chamber  Eldertree Enclave                         7   \n",
       "3                        NaN     Mystic Academy                        12   \n",
       "5                        NaN     Mystic Academy                        12   \n",
       "6                        NaN   Arcan Institute                         11   \n",
       "...                      ...                ...                       ...   \n",
       "883                      NaN     Mystic Academy                        17   \n",
       "884                      NaN     Mystic Academy                         9   \n",
       "887                      NaN     Mystic Academy                         8   \n",
       "888         Mystical Chamber     Mystic Academy                         2   \n",
       "889                      NaN     Mystic Academy                        23   \n",
       "\n",
       "           Favourite Study Element  Admitted in School  \n",
       "Student ID                                              \n",
       "1                             Fire                   0  \n",
       "2                             Fire                   1  \n",
       "3                              Air                   1  \n",
       "5                              Air                   0  \n",
       "6                            Earth                   0  \n",
       "...                            ...                 ...  \n",
       "883                          Earth                   0  \n",
       "884                          Water                   0  \n",
       "887                          Water                   0  \n",
       "888                          Earth                   1  \n",
       "889                           Fire                   0  \n",
       "\n",
       "[713 rows x 11 columns]"
      ]
     },
     "execution_count": 68,
     "metadata": {},
     "output_type": "execute_result"
    }
   ],
   "source": [
    "data_train"
   ]
  },
  {
   "cell_type": "code",
   "execution_count": 69,
   "id": "5169167a",
   "metadata": {
    "ExecuteTime": {
     "end_time": "2023-12-17T17:21:55.126483Z",
     "start_time": "2023-12-17T17:21:55.123747Z"
    },
    "tags": []
   },
   "outputs": [
    {
     "name": "stdout",
     "output_type": "stream",
     "text": [
      "<class 'pandas.core.frame.DataFrame'>\n",
      "Int64Index: 713 entries, 1 to 889\n",
      "Data columns (total 11 columns):\n",
      " #   Column                    Non-Null Count  Dtype  \n",
      "---  ------                    --------------  -----  \n",
      " 0   Program                   713 non-null    object \n",
      " 1   Student Gender            713 non-null    object \n",
      " 2   Experience Level          567 non-null    float64\n",
      " 3   Student Siblings          713 non-null    int64  \n",
      " 4   Student Family            713 non-null    int64  \n",
      " 5   Financial Background      713 non-null    float64\n",
      " 6   School Dormitory          153 non-null    object \n",
      " 7   School of Origin          713 non-null    object \n",
      " 8   Student Social Influence  713 non-null    int64  \n",
      " 9   Favourite Study Element   713 non-null    object \n",
      " 10  Admitted in School        713 non-null    int64  \n",
      "dtypes: float64(2), int64(4), object(5)\n",
      "memory usage: 66.8+ KB\n"
     ]
    }
   ],
   "source": [
    "#checking for null values in the columns\n",
    "data_train.info()"
   ]
  },
  {
   "cell_type": "code",
   "execution_count": 70,
   "id": "deb32c33",
   "metadata": {
    "ExecuteTime": {
     "end_time": "2023-12-17T17:21:55.256609Z",
     "start_time": "2023-12-17T17:21:55.214231Z"
    },
    "tags": []
   },
   "outputs": [
    {
     "data": {
      "text/plain": [
       "Student ID\n",
       "1      22.0\n",
       "2      38.0\n",
       "3      26.0\n",
       "5      35.0\n",
       "6      22.6\n",
       "       ... \n",
       "883    22.0\n",
       "884    28.0\n",
       "887    27.0\n",
       "888    19.0\n",
       "889    26.0\n",
       "Name: Experience Level, Length: 713, dtype: float64"
      ]
     },
     "execution_count": 70,
     "metadata": {},
     "output_type": "execute_result"
    }
   ],
   "source": [
    "#filling null values in the Experience Level column using K-Nearest Neighbor Algorithm\n",
    "imputer = KNNImputer(n_neighbors=5).fit(data_train.select_dtypes(include=np.number))\n",
    "filled_data = imputer.transform(data_train.select_dtypes(include=np.number))\n",
    "data_train['Experience Level'] = filled_data.T[0]\n",
    "data_train['Experience Level']"
   ]
  },
  {
   "cell_type": "code",
   "execution_count": 71,
   "id": "ea30f252",
   "metadata": {
    "ExecuteTime": {
     "end_time": "2023-12-17T17:21:55.357972Z",
     "start_time": "2023-12-17T17:21:55.313717Z"
    },
    "tags": []
   },
   "outputs": [
    {
     "name": "stdout",
     "output_type": "stream",
     "text": [
      "<class 'pandas.core.frame.DataFrame'>\n",
      "Int64Index: 713 entries, 1 to 889\n",
      "Data columns (total 11 columns):\n",
      " #   Column                    Non-Null Count  Dtype  \n",
      "---  ------                    --------------  -----  \n",
      " 0   Program                   713 non-null    object \n",
      " 1   Student Gender            713 non-null    object \n",
      " 2   Experience Level          713 non-null    float64\n",
      " 3   Student Siblings          713 non-null    int64  \n",
      " 4   Student Family            713 non-null    int64  \n",
      " 5   Financial Background      713 non-null    float64\n",
      " 6   School Dormitory          153 non-null    object \n",
      " 7   School of Origin          713 non-null    object \n",
      " 8   Student Social Influence  713 non-null    int64  \n",
      " 9   Favourite Study Element   713 non-null    object \n",
      " 10  Admitted in School        713 non-null    int64  \n",
      "dtypes: float64(2), int64(4), object(5)\n",
      "memory usage: 66.8+ KB\n"
     ]
    }
   ],
   "source": [
    "data_train.info()"
   ]
  },
  {
   "cell_type": "code",
   "execution_count": 72,
   "id": "a488a8f2",
   "metadata": {
    "ExecuteTime": {
     "end_time": "2023-12-17T17:21:55.412651Z",
     "start_time": "2023-12-17T17:21:55.402145Z"
    },
    "tags": []
   },
   "outputs": [],
   "source": [
    "#filling School Dormitory column using DecisionTreeClassifier\n",
    "modelDT = DecisionTreeClassifier().fit(data_train[data_train['School Dormitory'].notna()].select_dtypes(include=np.number), data_train[data_train['School Dormitory'].notna()]['School Dormitory'])\n",
    "data_train['School Dormitory']=modelDT.predict(data_train.select_dtypes(include=np.number))\n"
   ]
  },
  {
   "cell_type": "code",
   "execution_count": 73,
   "id": "ef5d875b",
   "metadata": {
    "ExecuteTime": {
     "end_time": "2023-12-17T17:21:55.483215Z",
     "start_time": "2023-12-17T17:21:55.468184Z"
    },
    "tags": []
   },
   "outputs": [
    {
     "name": "stdout",
     "output_type": "stream",
     "text": [
      "<class 'pandas.core.frame.DataFrame'>\n",
      "Int64Index: 713 entries, 1 to 889\n",
      "Data columns (total 11 columns):\n",
      " #   Column                    Non-Null Count  Dtype  \n",
      "---  ------                    --------------  -----  \n",
      " 0   Program                   713 non-null    object \n",
      " 1   Student Gender            713 non-null    object \n",
      " 2   Experience Level          713 non-null    float64\n",
      " 3   Student Siblings          713 non-null    int64  \n",
      " 4   Student Family            713 non-null    int64  \n",
      " 5   Financial Background      713 non-null    float64\n",
      " 6   School Dormitory          713 non-null    object \n",
      " 7   School of Origin          713 non-null    object \n",
      " 8   Student Social Influence  713 non-null    int64  \n",
      " 9   Favourite Study Element   713 non-null    object \n",
      " 10  Admitted in School        713 non-null    int64  \n",
      "dtypes: float64(2), int64(4), object(5)\n",
      "memory usage: 66.8+ KB\n"
     ]
    }
   ],
   "source": [
    "#validating that the rows are now fully filled\n",
    "data_train.info()"
   ]
  },
  {
   "cell_type": "code",
   "execution_count": 74,
   "id": "4921fd22",
   "metadata": {
    "ExecuteTime": {
     "end_time": "2023-12-17T17:21:55.548391Z",
     "start_time": "2023-12-17T17:21:55.544598Z"
    },
    "tags": []
   },
   "outputs": [],
   "source": [
    "variables = data_train.drop('Admitted in School', axis=1)\n",
    "target = data_train['Admitted in School']"
   ]
  },
  {
   "cell_type": "code",
   "execution_count": 75,
   "id": "bd3c23c7fcffcbda",
   "metadata": {
    "ExecuteTime": {
     "end_time": "2023-12-17T17:21:55.685581Z",
     "start_time": "2023-12-17T17:21:55.629051Z"
    },
    "collapsed": false,
    "jupyter": {
     "outputs_hidden": false
    },
    "tags": []
   },
   "outputs": [
    {
     "data": {
      "text/plain": [
       "<Axes: xlabel='Admitted in School', ylabel='count'>"
      ]
     },
     "execution_count": 75,
     "metadata": {},
     "output_type": "execute_result"
    },
    {
     "data": {
      "image/png": "[encoded data removed]",
      "text/plain": [
       "<Figure size 640x480 with 1 Axes>"
      ]
     },
     "metadata": {},
     "output_type": "display_data"
    }
   ],
   "source": [
    "#plot the target variable\n",
    "sns.countplot(x='Admitted in School', data=data_train)"
   ]
  },
  {
   "cell_type": "code",
   "execution_count": 76,
   "id": "8064c5a8247bd415",
   "metadata": {
    "ExecuteTime": {
     "end_time": "2023-12-17T17:21:55.748570Z",
     "start_time": "2023-12-17T17:21:55.712772Z"
    },
    "collapsed": false,
    "jupyter": {
     "outputs_hidden": false
    },
    "tags": []
   },
   "outputs": [],
   "source": [
    "#resample the dataset to 400 samples\n",
    "from sklearn.utils import resample\n",
    "data_train_majority = data_train[data_train['Admitted in School']==0]\n",
    "data_train_minority = data_train[data_train['Admitted in School']==1]\n",
    "\n",
    "data_train_minority_upsampled = resample(data_train_minority, \n",
    "                                 replace=True,     # sample with replacement\n",
    "                                 n_samples=400,    # to match majority class\n",
    "                                 random_state=123) # reproducible results\n",
    "data_train_majority_downsampled = resample(data_train_majority, \n",
    "                                 replace=False,     # sample with replacement\n",
    "                                 n_samples=400,    # to match majority class\n",
    "                                 random_state=123) # reproducible results\n",
    "data_train = pd.concat([data_train_majority_downsampled, data_train_minority_upsampled])"
   ]
  },
  {
   "cell_type": "code",
   "execution_count": 77,
   "id": "a4c24fb6227979ca",
   "metadata": {
    "ExecuteTime": {
     "end_time": "2023-12-17T17:21:55.845154Z",
     "start_time": "2023-12-17T17:21:55.801243Z"
    },
    "collapsed": false,
    "jupyter": {
     "outputs_hidden": false
    },
    "tags": []
   },
   "outputs": [
    {
     "data": {
      "text/plain": [
       "<Axes: xlabel='Admitted in School', ylabel='count'>"
      ]
     },
     "execution_count": 77,
     "metadata": {},
     "output_type": "execute_result"
    },
    {
     "data": {
      "image/png": "[encoded data removed]",
      "text/plain": [
       "<Figure size 640x480 with 1 Axes>"
      ]
     },
     "metadata": {},
     "output_type": "display_data"
    }
   ],
   "source": [
    "#plot the target variable\n",
    "sns.countplot(x='Admitted in School', data=data_train)"
   ]
  },
  {
   "cell_type": "markdown",
   "id": "71626d6d85a9d64",
   "metadata": {},
   "source": [
    "**SPLITTING AND SCALING**"
   ]
  },
  {
   "cell_type": "code",
   "execution_count": 78,
   "id": "0d6578f6",
   "metadata": {
    "ExecuteTime": {
     "end_time": "2023-12-17T17:21:55.975221Z",
     "start_time": "2023-12-17T17:21:55.963290Z"
    },
    "collapsed": false,
    "jupyter": {
     "outputs_hidden": false
    },
    "tags": []
   },
   "outputs": [],
   "source": [
    "X_train, X_val, y_train, y_val = train_test_split(variables, \n",
    "                                                  target, \n",
    "                                                  train_size = 0.7, \n",
    "                                                  random_state = 0, \n",
    "                                                  stratify = target, \n",
    "                                                  shuffle = True)"
   ]
  },
  {
   "cell_type": "markdown",
   "id": "31a6f754a67695a6",
   "metadata": {},
   "source": []
  },
  {
   "cell_type": "code",
   "execution_count": 79,
   "id": "ce954680",
   "metadata": {
    "ExecuteTime": {
     "end_time": "2023-12-17T17:21:56.124264Z",
     "start_time": "2023-12-17T17:21:56.121396Z"
    },
    "collapsed": false,
    "jupyter": {
     "outputs_hidden": false
    },
    "tags": []
   },
   "outputs": [],
   "source": [
    "X_train_n = X_train.select_dtypes(include=np.number).set_index(X_train.index)\n",
    "X_train_c = X_train.select_dtypes(exclude=np.number).set_index(X_train.index)\n",
    "\n",
    "X_val_n = X_val.select_dtypes(include=np.number).set_index(X_val.index)\n",
    "X_val_c = X_val.select_dtypes(exclude=np.number).set_index(X_val.index)"
   ]
  },
  {
   "cell_type": "code",
   "execution_count": 80,
   "id": "052e0153",
   "metadata": {
    "ExecuteTime": {
     "end_time": "2023-12-17T17:21:56.221303Z",
     "start_time": "2023-12-17T17:21:56.217815Z"
    },
    "collapsed": false,
    "jupyter": {
     "outputs_hidden": false
    },
    "tags": []
   },
   "outputs": [
    {
     "data": {
      "text/html": [
       "<div>\n",
       "<style scoped>\n",
       "    .dataframe tbody tr th:only-of-type {\n",
       "        vertical-align: middle;\n",
       "    }\n",
       "\n",
       "    .dataframe tbody tr th {\n",
       "        vertical-align: top;\n",
       "    }\n",
       "\n",
       "    .dataframe thead th {\n",
       "        text-align: right;\n",
       "    }\n",
       "</style>\n",
       "<table border=\"1\" class=\"dataframe\">\n",
       "  <thead>\n",
       "    <tr style=\"text-align: right;\">\n",
       "      <th></th>\n",
       "      <th>Experience Level</th>\n",
       "      <th>Student Siblings</th>\n",
       "      <th>Student Family</th>\n",
       "      <th>Financial Background</th>\n",
       "      <th>Student Social Influence</th>\n",
       "    </tr>\n",
       "    <tr>\n",
       "      <th>Student ID</th>\n",
       "      <th></th>\n",
       "      <th></th>\n",
       "      <th></th>\n",
       "      <th></th>\n",
       "      <th></th>\n",
       "    </tr>\n",
       "  </thead>\n",
       "  <tbody>\n",
       "    <tr>\n",
       "      <th>732</th>\n",
       "      <td>11.00</td>\n",
       "      <td>0</td>\n",
       "      <td>0</td>\n",
       "      <td>18.7875</td>\n",
       "      <td>19</td>\n",
       "    </tr>\n",
       "    <tr>\n",
       "      <th>717</th>\n",
       "      <td>38.00</td>\n",
       "      <td>0</td>\n",
       "      <td>0</td>\n",
       "      <td>227.5250</td>\n",
       "      <td>20</td>\n",
       "    </tr>\n",
       "    <tr>\n",
       "      <th>803</th>\n",
       "      <td>11.00</td>\n",
       "      <td>1</td>\n",
       "      <td>2</td>\n",
       "      <td>120.0000</td>\n",
       "      <td>10</td>\n",
       "    </tr>\n",
       "    <tr>\n",
       "      <th>190</th>\n",
       "      <td>36.00</td>\n",
       "      <td>0</td>\n",
       "      <td>0</td>\n",
       "      <td>7.8958</td>\n",
       "      <td>15</td>\n",
       "    </tr>\n",
       "    <tr>\n",
       "      <th>832</th>\n",
       "      <td>0.83</td>\n",
       "      <td>1</td>\n",
       "      <td>1</td>\n",
       "      <td>18.7500</td>\n",
       "      <td>14</td>\n",
       "    </tr>\n",
       "    <tr>\n",
       "      <th>...</th>\n",
       "      <td>...</td>\n",
       "      <td>...</td>\n",
       "      <td>...</td>\n",
       "      <td>...</td>\n",
       "      <td>...</td>\n",
       "    </tr>\n",
       "    <tr>\n",
       "      <th>197</th>\n",
       "      <td>21.80</td>\n",
       "      <td>0</td>\n",
       "      <td>0</td>\n",
       "      <td>7.7500</td>\n",
       "      <td>10</td>\n",
       "    </tr>\n",
       "    <tr>\n",
       "      <th>173</th>\n",
       "      <td>1.00</td>\n",
       "      <td>1</td>\n",
       "      <td>1</td>\n",
       "      <td>11.1333</td>\n",
       "      <td>3</td>\n",
       "    </tr>\n",
       "    <tr>\n",
       "      <th>577</th>\n",
       "      <td>34.00</td>\n",
       "      <td>0</td>\n",
       "      <td>0</td>\n",
       "      <td>13.0000</td>\n",
       "      <td>16</td>\n",
       "    </tr>\n",
       "    <tr>\n",
       "      <th>481</th>\n",
       "      <td>9.00</td>\n",
       "      <td>5</td>\n",
       "      <td>2</td>\n",
       "      <td>46.9000</td>\n",
       "      <td>6</td>\n",
       "    </tr>\n",
       "    <tr>\n",
       "      <th>143</th>\n",
       "      <td>24.00</td>\n",
       "      <td>1</td>\n",
       "      <td>0</td>\n",
       "      <td>15.8500</td>\n",
       "      <td>20</td>\n",
       "    </tr>\n",
       "  </tbody>\n",
       "</table>\n",
       "<p>499 rows × 5 columns</p>\n",
       "</div>"
      ],
      "text/plain": [
       "            Experience Level  Student Siblings  Student Family  \\\n",
       "Student ID                                                       \n",
       "732                    11.00                 0               0   \n",
       "717                    38.00                 0               0   \n",
       "803                    11.00                 1               2   \n",
       "190                    36.00                 0               0   \n",
       "832                     0.83                 1               1   \n",
       "...                      ...               ...             ...   \n",
       "197                    21.80                 0               0   \n",
       "173                     1.00                 1               1   \n",
       "577                    34.00                 0               0   \n",
       "481                     9.00                 5               2   \n",
       "143                    24.00                 1               0   \n",
       "\n",
       "            Financial Background  Student Social Influence  \n",
       "Student ID                                                  \n",
       "732                      18.7875                        19  \n",
       "717                     227.5250                        20  \n",
       "803                     120.0000                        10  \n",
       "190                       7.8958                        15  \n",
       "832                      18.7500                        14  \n",
       "...                          ...                       ...  \n",
       "197                       7.7500                        10  \n",
       "173                      11.1333                         3  \n",
       "577                      13.0000                        16  \n",
       "481                      46.9000                         6  \n",
       "143                      15.8500                        20  \n",
       "\n",
       "[499 rows x 5 columns]"
      ]
     },
     "execution_count": 80,
     "metadata": {},
     "output_type": "execute_result"
    }
   ],
   "source": [
    "X_train_n"
   ]
  },
  {
   "cell_type": "code",
   "execution_count": 81,
   "id": "27bee924",
   "metadata": {
    "ExecuteTime": {
     "end_time": "2023-12-17T17:21:56.341451Z",
     "start_time": "2023-12-17T17:21:56.308555Z"
    },
    "collapsed": false,
    "jupyter": {
     "outputs_hidden": false
    },
    "tags": []
   },
   "outputs": [
    {
     "data": {
      "text/html": [
       "<div>\n",
       "<style scoped>\n",
       "    .dataframe tbody tr th:only-of-type {\n",
       "        vertical-align: middle;\n",
       "    }\n",
       "\n",
       "    .dataframe tbody tr th {\n",
       "        vertical-align: top;\n",
       "    }\n",
       "\n",
       "    .dataframe thead th {\n",
       "        text-align: right;\n",
       "    }\n",
       "</style>\n",
       "<table border=\"1\" class=\"dataframe\">\n",
       "  <thead>\n",
       "    <tr style=\"text-align: right;\">\n",
       "      <th></th>\n",
       "      <th>Program</th>\n",
       "      <th>Student Gender</th>\n",
       "      <th>School Dormitory</th>\n",
       "      <th>School of Origin</th>\n",
       "      <th>Favourite Study Element</th>\n",
       "    </tr>\n",
       "    <tr>\n",
       "      <th>Student ID</th>\n",
       "      <th></th>\n",
       "      <th></th>\n",
       "      <th></th>\n",
       "      <th></th>\n",
       "      <th></th>\n",
       "    </tr>\n",
       "  </thead>\n",
       "  <tbody>\n",
       "    <tr>\n",
       "      <th>732</th>\n",
       "      <td>Sorcery School</td>\n",
       "      <td>male</td>\n",
       "      <td>Mystical Chamber</td>\n",
       "      <td>Eldertree Enclave</td>\n",
       "      <td>Water</td>\n",
       "    </tr>\n",
       "    <tr>\n",
       "      <th>717</th>\n",
       "      <td>Magi Academy</td>\n",
       "      <td>female</td>\n",
       "      <td>Cottage Chamber</td>\n",
       "      <td>Eldertree Enclave</td>\n",
       "      <td>Air</td>\n",
       "    </tr>\n",
       "    <tr>\n",
       "      <th>803</th>\n",
       "      <td>Magi Academy</td>\n",
       "      <td>male</td>\n",
       "      <td>Mystical Chamber</td>\n",
       "      <td>Mystic Academy</td>\n",
       "      <td>Air</td>\n",
       "    </tr>\n",
       "    <tr>\n",
       "      <th>190</th>\n",
       "      <td>Sorcery School</td>\n",
       "      <td>male</td>\n",
       "      <td>Python Quarters</td>\n",
       "      <td>Mystic Academy</td>\n",
       "      <td>Fire</td>\n",
       "    </tr>\n",
       "    <tr>\n",
       "      <th>832</th>\n",
       "      <td>Witchcraft Institute</td>\n",
       "      <td>male</td>\n",
       "      <td>Grand Chambers</td>\n",
       "      <td>Mystic Academy</td>\n",
       "      <td>Air</td>\n",
       "    </tr>\n",
       "    <tr>\n",
       "      <th>...</th>\n",
       "      <td>...</td>\n",
       "      <td>...</td>\n",
       "      <td>...</td>\n",
       "      <td>...</td>\n",
       "      <td>...</td>\n",
       "    </tr>\n",
       "    <tr>\n",
       "      <th>197</th>\n",
       "      <td>Sorcery School</td>\n",
       "      <td>male</td>\n",
       "      <td>Python Quarters</td>\n",
       "      <td>Arcan Institute</td>\n",
       "      <td>Water</td>\n",
       "    </tr>\n",
       "    <tr>\n",
       "      <th>173</th>\n",
       "      <td>Sorcery School</td>\n",
       "      <td>female</td>\n",
       "      <td>Mystical Chamber</td>\n",
       "      <td>Mystic Academy</td>\n",
       "      <td>Water</td>\n",
       "    </tr>\n",
       "    <tr>\n",
       "      <th>577</th>\n",
       "      <td>Witchcraft Institute</td>\n",
       "      <td>female</td>\n",
       "      <td>Dragon Room</td>\n",
       "      <td>Mystic Academy</td>\n",
       "      <td>Fire</td>\n",
       "    </tr>\n",
       "    <tr>\n",
       "      <th>481</th>\n",
       "      <td>Sorcery School</td>\n",
       "      <td>male</td>\n",
       "      <td>Python Quarters</td>\n",
       "      <td>Mystic Academy</td>\n",
       "      <td>Water</td>\n",
       "    </tr>\n",
       "    <tr>\n",
       "      <th>143</th>\n",
       "      <td>Sorcery School</td>\n",
       "      <td>female</td>\n",
       "      <td>Mystical Chamber</td>\n",
       "      <td>Mystic Academy</td>\n",
       "      <td>Fire</td>\n",
       "    </tr>\n",
       "  </tbody>\n",
       "</table>\n",
       "<p>499 rows × 5 columns</p>\n",
       "</div>"
      ],
      "text/plain": [
       "                         Program Student Gender  School Dormitory  \\\n",
       "Student ID                                                          \n",
       "732               Sorcery School           male  Mystical Chamber   \n",
       "717                 Magi Academy         female   Cottage Chamber   \n",
       "803                 Magi Academy           male  Mystical Chamber   \n",
       "190               Sorcery School           male   Python Quarters   \n",
       "832         Witchcraft Institute           male    Grand Chambers   \n",
       "...                          ...            ...               ...   \n",
       "197               Sorcery School           male   Python Quarters   \n",
       "173               Sorcery School         female  Mystical Chamber   \n",
       "577         Witchcraft Institute         female       Dragon Room   \n",
       "481               Sorcery School           male   Python Quarters   \n",
       "143               Sorcery School         female  Mystical Chamber   \n",
       "\n",
       "             School of Origin Favourite Study Element  \n",
       "Student ID                                             \n",
       "732         Eldertree Enclave                   Water  \n",
       "717         Eldertree Enclave                     Air  \n",
       "803            Mystic Academy                     Air  \n",
       "190            Mystic Academy                    Fire  \n",
       "832            Mystic Academy                     Air  \n",
       "...                       ...                     ...  \n",
       "197          Arcan Institute                    Water  \n",
       "173            Mystic Academy                   Water  \n",
       "577            Mystic Academy                    Fire  \n",
       "481            Mystic Academy                   Water  \n",
       "143            Mystic Academy                    Fire  \n",
       "\n",
       "[499 rows x 5 columns]"
      ]
     },
     "execution_count": 81,
     "metadata": {},
     "output_type": "execute_result"
    }
   ],
   "source": [
    "X_train_c"
   ]
  },
  {
   "cell_type": "code",
   "execution_count": 82,
   "id": "08416a6a",
   "metadata": {
    "ExecuteTime": {
     "end_time": "2023-12-17T17:21:56.456873Z",
     "start_time": "2023-12-17T17:21:56.387492Z"
    },
    "collapsed": false,
    "jupyter": {
     "outputs_hidden": false
    },
    "tags": []
   },
   "outputs": [],
   "source": [
    "#creating different instances and fitting them with the training numerical data\n",
    "st_scaler = StandardScaler().fit(X_train_n)"
   ]
  },
  {
   "cell_type": "code",
   "execution_count": 83,
   "id": "a8cb9125",
   "metadata": {
    "ExecuteTime": {
     "end_time": "2023-12-17T17:21:56.504532Z",
     "start_time": "2023-12-17T17:21:56.473416Z"
    },
    "collapsed": false,
    "jupyter": {
     "outputs_hidden": false
    },
    "tags": []
   },
   "outputs": [],
   "source": [
    "#transforming training data using different fitted scalers as well as structuring it into DataFrames\n",
    "X_train_n_scl_st = st_scaler.transform(X_train_n) \n",
    "X_train_n_scl_st = pd.DataFrame(X_train_n_scl_st, columns = X_train_n.columns).set_index(X_train_n.index)"
   ]
  },
  {
   "cell_type": "code",
   "execution_count": 84,
   "id": "8f9cdd64",
   "metadata": {
    "ExecuteTime": {
     "end_time": "2023-12-17T17:21:56.581349Z",
     "start_time": "2023-12-17T17:21:56.547016Z"
    },
    "collapsed": false,
    "jupyter": {
     "outputs_hidden": false
    },
    "tags": []
   },
   "outputs": [],
   "source": [
    "#transforming validation data using different fitted scalers as well as structuring it into DataFrames\n",
    "X_val_n_scl_st = st_scaler.transform(X_val_n)\n",
    "X_val_n_scl_st = pd.DataFrame(X_val_n_scl_st, columns = X_val_n.columns).set_index(X_val_n.index)"
   ]
  },
  {
   "cell_type": "markdown",
   "id": "8353d721",
   "metadata": {},
   "source": [
    "**FEATURE SELECTION**"
   ]
  },
  {
   "cell_type": "code",
   "execution_count": 85,
   "id": "9dfb5e59",
   "metadata": {
    "ExecuteTime": {
     "end_time": "2023-12-17T17:21:56.708591Z",
     "start_time": "2023-12-17T17:21:56.704720Z"
    },
    "collapsed": false,
    "jupyter": {
     "outputs_hidden": false
    },
    "tags": []
   },
   "outputs": [
    {
     "data": {
      "text/plain": [
       "Experience Level            1.002008\n",
       "Student Siblings            1.002008\n",
       "Student Family              1.002008\n",
       "Financial Background        1.002008\n",
       "Student Social Influence    1.002008\n",
       "dtype: float64"
      ]
     },
     "execution_count": 85,
     "metadata": {},
     "output_type": "execute_result"
    }
   ],
   "source": [
    "#checking for possibly droppable irrelevant numerical columns (if var = 0)\n",
    "X_train_n_scl_st.var()"
   ]
  },
  {
   "cell_type": "code",
   "execution_count": 86,
   "id": "7b41f991",
   "metadata": {
    "ExecuteTime": {
     "end_time": "2023-12-17T17:21:56.826495Z",
     "start_time": "2023-12-17T17:21:56.804258Z"
    },
    "tags": []
   },
   "outputs": [
    {
     "data": {
      "text/html": [
       "<div>\n",
       "<style scoped>\n",
       "    .dataframe tbody tr th:only-of-type {\n",
       "        vertical-align: middle;\n",
       "    }\n",
       "\n",
       "    .dataframe tbody tr th {\n",
       "        vertical-align: top;\n",
       "    }\n",
       "\n",
       "    .dataframe thead th {\n",
       "        text-align: right;\n",
       "    }\n",
       "</style>\n",
       "<table border=\"1\" class=\"dataframe\">\n",
       "  <thead>\n",
       "    <tr style=\"text-align: right;\">\n",
       "      <th></th>\n",
       "      <th>Experience Level</th>\n",
       "      <th>Student Siblings</th>\n",
       "      <th>Student Family</th>\n",
       "      <th>Financial Background</th>\n",
       "      <th>Student Social Influence</th>\n",
       "      <th>Admitted in School</th>\n",
       "    </tr>\n",
       "    <tr>\n",
       "      <th>Student ID</th>\n",
       "      <th></th>\n",
       "      <th></th>\n",
       "      <th></th>\n",
       "      <th></th>\n",
       "      <th></th>\n",
       "      <th></th>\n",
       "    </tr>\n",
       "  </thead>\n",
       "  <tbody>\n",
       "    <tr>\n",
       "      <th>732</th>\n",
       "      <td>-1.370914</td>\n",
       "      <td>-0.477854</td>\n",
       "      <td>-0.464410</td>\n",
       "      <td>-0.226063</td>\n",
       "      <td>0.864289</td>\n",
       "      <td>0</td>\n",
       "    </tr>\n",
       "    <tr>\n",
       "      <th>717</th>\n",
       "      <td>0.608769</td>\n",
       "      <td>-0.477854</td>\n",
       "      <td>-0.464410</td>\n",
       "      <td>4.251390</td>\n",
       "      <td>1.011032</td>\n",
       "      <td>1</td>\n",
       "    </tr>\n",
       "    <tr>\n",
       "      <th>803</th>\n",
       "      <td>-1.370914</td>\n",
       "      <td>0.432257</td>\n",
       "      <td>2.014100</td>\n",
       "      <td>1.944961</td>\n",
       "      <td>-0.456406</td>\n",
       "      <td>1</td>\n",
       "    </tr>\n",
       "    <tr>\n",
       "      <th>190</th>\n",
       "      <td>0.462126</td>\n",
       "      <td>-0.477854</td>\n",
       "      <td>-0.464410</td>\n",
       "      <td>-0.459691</td>\n",
       "      <td>0.277313</td>\n",
       "      <td>0</td>\n",
       "    </tr>\n",
       "    <tr>\n",
       "      <th>832</th>\n",
       "      <td>-2.116595</td>\n",
       "      <td>0.432257</td>\n",
       "      <td>0.774845</td>\n",
       "      <td>-0.226867</td>\n",
       "      <td>0.130570</td>\n",
       "      <td>1</td>\n",
       "    </tr>\n",
       "  </tbody>\n",
       "</table>\n",
       "</div>"
      ],
      "text/plain": [
       "            Experience Level  Student Siblings  Student Family  \\\n",
       "Student ID                                                       \n",
       "732                -1.370914         -0.477854       -0.464410   \n",
       "717                 0.608769         -0.477854       -0.464410   \n",
       "803                -1.370914          0.432257        2.014100   \n",
       "190                 0.462126         -0.477854       -0.464410   \n",
       "832                -2.116595          0.432257        0.774845   \n",
       "\n",
       "            Financial Background  Student Social Influence  Admitted in School  \n",
       "Student ID                                                                      \n",
       "732                    -0.226063                  0.864289                   0  \n",
       "717                     4.251390                  1.011032                   1  \n",
       "803                     1.944961                 -0.456406                   1  \n",
       "190                    -0.459691                  0.277313                   0  \n",
       "832                    -0.226867                  0.130570                   1  "
      ]
     },
     "execution_count": 86,
     "metadata": {},
     "output_type": "execute_result"
    }
   ],
   "source": [
    "#preparing to check if any of the independent variables are correlated with the target\n",
    "all_train_n = X_train_n_scl_st.join(y_train)\n",
    "all_train_n.head()"
   ]
  },
  {
   "cell_type": "code",
   "execution_count": 87,
   "id": "aced405f",
   "metadata": {
    "ExecuteTime": {
     "end_time": "2023-12-17T17:21:57.018320Z",
     "start_time": "2023-12-17T17:21:56.906772Z"
    },
    "tags": []
   },
   "outputs": [
    {
     "data": {
      "image/png": "[encoded data removed]",
      "text/plain": [
       "<Figure size 1200x1000 with 2 Axes>"
      ]
     },
     "metadata": {},
     "output_type": "display_data"
    }
   ],
   "source": [
    "#plotting the correlation between the variables\n",
    "def cor_heatmap(cor):\n",
    "    plt.figure(figsize=(12,10))\n",
    "    sns.heatmap(data = cor, annot = True, cmap = plt.cm.Reds, fmt='.1')\n",
    "    plt.show()\n",
    "cor_spearman = all_train_n.corr(method ='spearman')\n",
    "cor_heatmap(cor_spearman)"
   ]
  },
  {
   "cell_type": "code",
   "execution_count": 88,
   "id": "6e1365ff",
   "metadata": {
    "ExecuteTime": {
     "end_time": "2023-12-17T17:21:57.044438Z",
     "start_time": "2023-12-17T17:21:57.021576Z"
    },
    "tags": []
   },
   "outputs": [
    {
     "name": "stdout",
     "output_type": "stream",
     "text": [
      "Program is IMPORTANT for Prediction\n",
      "Student Gender is IMPORTANT for Prediction\n",
      "School Dormitory is IMPORTANT for Prediction\n",
      "School of Origin is IMPORTANT for Prediction\n",
      "Favourite Study Element is NOT an important predictor. (Discard Favourite Study Element from model)\n"
     ]
    }
   ],
   "source": [
    "#checking the importance of the categorical independent variables in the target\n",
    "def TestIndependence(X,y,var,alpha=0.05):   \n",
    "    '''receive as arguments the dataset of independent variables, the target,\n",
    "    the name of each independent variable and the alpha defined. This function will \n",
    "    follow the steps of chi-square to check if a independent variable is an important predictor'''\n",
    "    \n",
    "    dfObserved = pd.crosstab(y,X) \n",
    "    chi2, p, dof, expected = stats.chi2_contingency(dfObserved.values)\n",
    "    dfExpected = pd.DataFrame(expected, columns=dfObserved.columns, index = dfObserved.index)\n",
    "    if p<alpha:\n",
    "        result=\"{0} is IMPORTANT for Prediction\".format(var)\n",
    "    else:\n",
    "        result=\"{0} is NOT an important predictor. (Discard {0} from model)\".format(var)\n",
    "    print(result)\n",
    "\n",
    "for var in X_train_c:\n",
    "    TestIndependence(X_train_c[var],y_train, var)"
   ]
  },
  {
   "cell_type": "code",
   "execution_count": 89,
   "id": "1c6c6875",
   "metadata": {
    "ExecuteTime": {
     "end_time": "2023-12-17T17:21:57.184426Z",
     "start_time": "2023-12-17T17:21:57.050137Z"
    },
    "tags": []
   },
   "outputs": [
    {
     "name": "stdout",
     "output_type": "stream",
     "text": [
      "Optimum number of features: 5\n",
      "Score with 5 features: 0.710280\n"
     ]
    }
   ],
   "source": [
    "#Checking for the optimum number of features to use in the model\n",
    "nof_list=np.arange(1,7)            \n",
    "high_score=0\n",
    "# Variable to store the optimum features\n",
    "nof=0           \n",
    "score_list =[]\n",
    "for n in range(len(nof_list)):\n",
    "    model = LogisticRegression()\n",
    "    rfe = RFE(model,n_features_to_select = nof_list[n])\n",
    "    X_train_rfe = rfe.fit_transform(X_train_n_scl_st,y_train)\n",
    "    X_val_rfe = rfe.transform(X_val_n_scl_st)\n",
    "    model.fit(X_train_rfe,y_train)\n",
    "    \n",
    "    score = model.score(X_val_rfe,y_val)\n",
    "    score_list.append(score)\n",
    "    \n",
    "    if(score>high_score):\n",
    "        high_score = score\n",
    "        nof = nof_list[n]\n",
    "print(\"Optimum number of features: %d\" %nof)\n",
    "print(\"Score with %d features: %f\" % (nof, high_score))"
   ]
  },
  {
   "cell_type": "code",
   "execution_count": 90,
   "id": "ac369aa2",
   "metadata": {
    "ExecuteTime": {
     "end_time": "2023-12-17T17:21:57.190465Z",
     "start_time": "2023-12-17T17:21:57.176475Z"
    },
    "tags": []
   },
   "outputs": [],
   "source": [
    "#checking the importance of each one of the numerical variables\n",
    "model = LogisticRegression()\n",
    "rfe = RFE(estimator = model, n_features_to_select = 4)\n",
    "X_rfe = rfe.fit_transform(X = X_train_n_scl_st, y = y_train)"
   ]
  },
  {
   "cell_type": "code",
   "execution_count": 91,
   "id": "a6ae8f93",
   "metadata": {
    "ExecuteTime": {
     "end_time": "2023-12-17T17:21:57.240296Z",
     "start_time": "2023-12-17T17:21:57.229211Z"
    },
    "tags": []
   },
   "outputs": [
    {
     "data": {
      "text/plain": [
       "Experience Level             True\n",
       "Student Siblings             True\n",
       "Student Family               True\n",
       "Financial Background         True\n",
       "Student Social Influence    False\n",
       "dtype: bool"
      ]
     },
     "execution_count": 91,
     "metadata": {},
     "output_type": "execute_result"
    }
   ],
   "source": [
    "#the 1 variable that is the optimum to use is marked as True\n",
    "selected_features = pd.Series(rfe.support_, index = X_train_n_scl_st.columns)\n",
    "selected_features"
   ]
  },
  {
   "cell_type": "code",
   "execution_count": 92,
   "id": "069733ab",
   "metadata": {
    "ExecuteTime": {
     "end_time": "2023-12-17T17:21:57.334371Z",
     "start_time": "2023-12-17T17:21:57.327219Z"
    },
    "tags": []
   },
   "outputs": [],
   "source": [
    "#using Lasso Regression method to figure out on the relevant variables\n",
    "def plot_importance(coef,name):\n",
    "    imp_coef = coef.sort_values()\n",
    "    plt.figure(figsize=(8,5))\n",
    "    imp_coef.plot(kind = \"barh\")\n",
    "    plt.title(\"Feature importance using \" + name + \" Model\")\n",
    "    plt.show()"
   ]
  },
  {
   "cell_type": "code",
   "execution_count": 93,
   "id": "577d44fe",
   "metadata": {
    "ExecuteTime": {
     "end_time": "2023-12-17T17:21:57.482897Z",
     "start_time": "2023-12-17T17:21:57.381071Z"
    },
    "tags": []
   },
   "outputs": [
    {
     "name": "stdout",
     "output_type": "stream",
     "text": [
      "Experience Level           -0.057494\n",
      "Student Siblings           -0.061576\n",
      "Student Family              0.030464\n",
      "Financial Background        0.118845\n",
      "Student Social Influence   -0.007224\n",
      "dtype: float64\n",
      "Experience Level            False\n",
      "Student Siblings            False\n",
      "Student Family              False\n",
      "Financial Background        False\n",
      "Student Social Influence    False\n",
      "dtype: bool\n"
     ]
    },
    {
     "data": {
      "image/png": "[encoded data removed]",
      "text/plain": [
       "<Figure size 800x500 with 1 Axes>"
      ]
     },
     "metadata": {},
     "output_type": "display_data"
    }
   ],
   "source": [
    "reg = LassoCV()\n",
    "reg.fit(X_train_n_scl_st, y_train)\n",
    "coef = pd.Series(reg.coef_, index = X_train_n_scl_st.columns)\n",
    "print(coef)\n",
    "print(coef == 0)\n",
    "plot_importance(coef,'Lasso')"
   ]
  },
  {
   "cell_type": "code",
   "execution_count": 94,
   "id": "8a86badb",
   "metadata": {
    "ExecuteTime": {
     "end_time": "2023-12-17T17:21:57.483206Z",
     "start_time": "2023-12-17T17:21:57.468798Z"
    },
    "tags": []
   },
   "outputs": [
    {
     "data": {
      "text/html": [
       "<div>\n",
       "<style scoped>\n",
       "    .dataframe tbody tr th:only-of-type {\n",
       "        vertical-align: middle;\n",
       "    }\n",
       "\n",
       "    .dataframe tbody tr th {\n",
       "        vertical-align: top;\n",
       "    }\n",
       "\n",
       "    .dataframe thead th {\n",
       "        text-align: right;\n",
       "    }\n",
       "</style>\n",
       "<table border=\"1\" class=\"dataframe\">\n",
       "  <thead>\n",
       "    <tr style=\"text-align: right;\">\n",
       "      <th></th>\n",
       "      <th>0</th>\n",
       "    </tr>\n",
       "  </thead>\n",
       "  <tbody>\n",
       "    <tr>\n",
       "      <th>0</th>\n",
       "      <td>Experience Level</td>\n",
       "    </tr>\n",
       "    <tr>\n",
       "      <th>1</th>\n",
       "      <td>Student Siblings</td>\n",
       "    </tr>\n",
       "    <tr>\n",
       "      <th>2</th>\n",
       "      <td>Student Family</td>\n",
       "    </tr>\n",
       "    <tr>\n",
       "      <th>3</th>\n",
       "      <td>Financial Background</td>\n",
       "    </tr>\n",
       "    <tr>\n",
       "      <th>4</th>\n",
       "      <td>Student Social Influence</td>\n",
       "    </tr>\n",
       "  </tbody>\n",
       "</table>\n",
       "</div>"
      ],
      "text/plain": [
       "                          0\n",
       "0          Experience Level\n",
       "1          Student Siblings\n",
       "2            Student Family\n",
       "3      Financial Background\n",
       "4  Student Social Influence"
      ]
     },
     "execution_count": 94,
     "metadata": {},
     "output_type": "execute_result"
    }
   ],
   "source": [
    "pd.DataFrame(X_train_n.T.index)"
   ]
  },
  {
   "cell_type": "markdown",
   "id": "5d2f3405c1b879a0",
   "metadata": {},
   "source": [
    "**FEATURE SELECTION CONCLUSION**"
   ]
  },
  {
   "cell_type": "markdown",
   "id": "51bbfe84",
   "metadata": {},
   "source": [
    "| Variable | Importance|\n",
    "|----------|-----------|\n",
    "|Program|IMPORTANT|\n",
    "|Student Gender|IMPORTANT|\n",
    "|School Dormitory|IMPORTANT|\n",
    "|School of Origin|IMPORTANT|\n",
    "|Favourite Study Element|NOT IMPORTANT|"
   ]
  },
  {
   "cell_type": "markdown",
   "id": "ca4382c8",
   "metadata": {},
   "source": [
    "| Variable |RFE | Lasso | Decision|\n",
    "|-----|-------|-------|----------|\n",
    "|Experience Level|IMPORTANT|IMPORTANT|Keep|\n",
    "|Student Siblings|IMPORTANT|IMPORTANT|Keep|\n",
    "|Student Family|IMPORTANT|IMPORTANT|Keep|\n",
    "|Financial Background|IMPORTANT|IMPORTANT|Keep|\n",
    "|Student Social Influence|NOT IMPORTANT|NOT IMPORTANT|Discard|\n"
   ]
  },
  {
   "cell_type": "code",
   "execution_count": 95,
   "id": "939209518e623079",
   "metadata": {
    "ExecuteTime": {
     "end_time": "2023-12-17T17:21:57.843859Z",
     "start_time": "2023-12-17T17:21:57.840283Z"
    },
    "collapsed": false,
    "jupyter": {
     "outputs_hidden": false
    },
    "tags": []
   },
   "outputs": [],
   "source": [
    "#dropping the least important categorical variable\n",
    "X_train_c=X_train_c.drop('Favourite Study Element', axis=1)\n",
    "X_val_c=X_val_c.drop('Favourite Study Element', axis=1)"
   ]
  },
  {
   "cell_type": "code",
   "execution_count": 96,
   "id": "badb6634",
   "metadata": {
    "ExecuteTime": {
     "end_time": "2023-12-17T17:21:57.975335Z",
     "start_time": "2023-12-17T17:21:57.933071Z"
    },
    "tags": []
   },
   "outputs": [],
   "source": [
    "#dropping the least important numerical variable\n",
    "X_train_n = X_train_n_scl_st.drop(['Student Social Influence'],axis=1)\n",
    "X_val_n = X_val_n_scl_st.drop(['Student Social Influence'],axis=1)"
   ]
  },
  {
   "cell_type": "markdown",
   "id": "cde28e65d73d5390",
   "metadata": {},
   "source": [
    "**ENCODING**"
   ]
  },
  {
   "cell_type": "code",
   "execution_count": 97,
   "id": "d17a43049e888d42",
   "metadata": {
    "ExecuteTime": {
     "end_time": "2023-12-17T17:21:58.044093Z",
     "start_time": "2023-12-17T17:21:58.042489Z"
    },
    "collapsed": false,
    "jupyter": {
     "outputs_hidden": false
    },
    "tags": []
   },
   "outputs": [],
   "source": [
    "# Apply one-hot encoding to categorical data\n",
    "encoder = OneHotEncoder()\n",
    "X_train_c_encoded = encoder.fit_transform(X_train_c)\n",
    "# Combine the encoded categorical data and numerical data\n",
    "X_train_combined = np.hstack((X_train_n, X_train_c_encoded.toarray()))"
   ]
  },
  {
   "cell_type": "code",
   "execution_count": 98,
   "id": "93d22fc5",
   "metadata": {
    "ExecuteTime": {
     "end_time": "2023-12-17T17:21:58.136018Z",
     "start_time": "2023-12-17T17:21:58.128565Z"
    },
    "tags": []
   },
   "outputs": [],
   "source": [
    "# preprocessing X_val\n",
    "X_val_c_encoded = encoder.transform(X_val_c)\n",
    "X_val_combined = np.hstack((X_val_n, X_val_c_encoded.toarray()))"
   ]
  },
  {
   "cell_type": "markdown",
   "id": "ceff2c2c",
   "metadata": {},
   "source": [
    "**MODELS**"
   ]
  },
  {
   "cell_type": "code",
   "execution_count": 99,
   "id": "8f75c69e66c38bab",
   "metadata": {
    "ExecuteTime": {
     "end_time": "2023-12-17T17:22:00.068333Z",
     "start_time": "2023-12-17T17:21:58.287888Z"
    },
    "collapsed": false,
    "jupyter": {
     "outputs_hidden": false
    },
    "tags": []
   },
   "outputs": [
    {
     "name": "stdout",
     "output_type": "stream",
     "text": [
      "              precision    recall  f1-score   support\n",
      "\n",
      "           0       0.81      0.94      0.87       138\n",
      "           1       0.85      0.59      0.70        76\n",
      "\n",
      "    accuracy                           0.82       214\n",
      "   macro avg       0.83      0.77      0.78       214\n",
      "weighted avg       0.82      0.82      0.81       214\n",
      "\n"
     ]
    }
   ],
   "source": [
    "# NN\n",
    "from sklearn.model_selection import KFold\n",
    "from sklearn.neural_network import MLPClassifier\n",
    "\n",
    "model_NN = MLPClassifier(alpha = 0.5, max_iter=1000, random_state=0)\n",
    "\n",
    "# Create a KFold cross-validator with 5 folds\n",
    "kf = KFold(n_splits=5, shuffle=True, random_state=42)\n",
    "\n",
    "model_NN.fit(X_train_combined, y_train)\n",
    "\n",
    "print(classification_report(y_val, model_NN.predict(X_val_combined)))\n"
   ]
  },
  {
   "cell_type": "code",
   "execution_count": 100,
   "id": "0ba10ad7",
   "metadata": {
    "ExecuteTime": {
     "end_time": "2023-12-17T17:22:01.921434Z",
     "start_time": "2023-12-17T17:22:00.074429Z"
    },
    "collapsed": false,
    "jupyter": {
     "outputs_hidden": false
    },
    "tags": []
   },
   "outputs": [],
   "source": [
    "from sklearn.ensemble import VotingClassifier, BaggingClassifier\n",
    "\n",
    "model_DTC = DecisionTreeClassifier().fit(X_train_combined, y_train)\n",
    "model_ETC = ExtraTreesClassifier().fit(X_train_combined, y_train)\n",
    "model_RFC = RandomForestClassifier().fit(X_train_combined, y_train)\n",
    "model_LR = LogisticRegression().fit(X_train_combined, y_train)\n",
    "\n",
    "#create ensemble model\n",
    "model_VC = VotingClassifier(estimators=[('DTC', model_DTC), ('ETC', model_ETC), ('RFC', model_RFC), ('LR', model_LR)], voting='hard').fit(X_train_combined, y_train)\n",
    "\n",
    "#create bagging model\n",
    "model_Bagging = BaggingClassifier(base_estimator=model_RFC, n_estimators=30, random_state=0).fit(X_train_combined, y_train)"
   ]
  },
  {
   "cell_type": "code",
   "execution_count": 101,
   "id": "c4187b85e33c12c5",
   "metadata": {
    "ExecuteTime": {
     "end_time": "2023-12-17T17:22:02.658497Z",
     "start_time": "2023-12-17T17:22:01.923896Z"
    },
    "collapsed": false,
    "jupyter": {
     "outputs_hidden": false
    },
    "tags": []
   },
   "outputs": [
    {
     "name": "stdout",
     "output_type": "stream",
     "text": [
      "DecisionTreeClassifier()\n",
      "              precision    recall  f1-score   support\n",
      "\n",
      "           0       0.83      0.85      0.84       138\n",
      "           1       0.71      0.68      0.70        76\n",
      "\n",
      "    accuracy                           0.79       214\n",
      "   macro avg       0.77      0.77      0.77       214\n",
      "weighted avg       0.79      0.79      0.79       214\n",
      "\n",
      "ExtraTreesClassifier()\n",
      "              precision    recall  f1-score   support\n",
      "\n",
      "           0       0.81      0.89      0.85       138\n",
      "           1       0.76      0.63      0.69        76\n",
      "\n",
      "    accuracy                           0.80       214\n",
      "   macro avg       0.79      0.76      0.77       214\n",
      "weighted avg       0.80      0.80      0.79       214\n",
      "\n",
      "RandomForestClassifier()\n",
      "              precision    recall  f1-score   support\n",
      "\n",
      "           0       0.81      0.92      0.86       138\n",
      "           1       0.81      0.61      0.69        76\n",
      "\n",
      "    accuracy                           0.81       214\n",
      "   macro avg       0.81      0.76      0.78       214\n",
      "weighted avg       0.81      0.81      0.80       214\n",
      "\n",
      "LogisticRegression()\n",
      "              precision    recall  f1-score   support\n",
      "\n",
      "           0       0.82      0.88      0.85       138\n",
      "           1       0.74      0.64      0.69        76\n",
      "\n",
      "    accuracy                           0.79       214\n",
      "   macro avg       0.78      0.76      0.77       214\n",
      "weighted avg       0.79      0.79      0.79       214\n",
      "\n",
      "VotingClassifier(estimators=[('DTC', DecisionTreeClassifier()),\n",
      "                             ('ETC', ExtraTreesClassifier()),\n",
      "                             ('RFC', RandomForestClassifier()),\n",
      "                             ('LR', LogisticRegression())])\n",
      "              precision    recall  f1-score   support\n",
      "\n",
      "           0       0.82      0.93      0.87       138\n",
      "           1       0.83      0.63      0.72        76\n",
      "\n",
      "    accuracy                           0.82       214\n",
      "   macro avg       0.82      0.78      0.79       214\n",
      "weighted avg       0.82      0.82      0.82       214\n",
      "\n",
      "BaggingClassifier(base_estimator=RandomForestClassifier(), n_estimators=30,\n",
      "                  random_state=0)\n",
      "              precision    recall  f1-score   support\n",
      "\n",
      "           0       0.82      0.93      0.87       138\n",
      "           1       0.84      0.62      0.71        76\n",
      "\n",
      "    accuracy                           0.82       214\n",
      "   macro avg       0.83      0.78      0.79       214\n",
      "weighted avg       0.82      0.82      0.81       214\n",
      "\n",
      "MLPClassifier(alpha=0.5, max_iter=1000, random_state=0)\n",
      "              precision    recall  f1-score   support\n",
      "\n",
      "           0       0.81      0.94      0.87       138\n",
      "           1       0.85      0.59      0.70        76\n",
      "\n",
      "    accuracy                           0.82       214\n",
      "   macro avg       0.83      0.77      0.78       214\n",
      "weighted avg       0.82      0.82      0.81       214\n",
      "\n"
     ]
    },
    {
     "data": {
      "text/html": [
       "<div>\n",
       "<style scoped>\n",
       "    .dataframe tbody tr th:only-of-type {\n",
       "        vertical-align: middle;\n",
       "    }\n",
       "\n",
       "    .dataframe tbody tr th {\n",
       "        vertical-align: top;\n",
       "    }\n",
       "\n",
       "    .dataframe thead th {\n",
       "        text-align: right;\n",
       "    }\n",
       "</style>\n",
       "<table border=\"1\" class=\"dataframe\">\n",
       "  <thead>\n",
       "    <tr style=\"text-align: right;\">\n",
       "      <th></th>\n",
       "      <th>Model</th>\n",
       "      <th>Accuracy</th>\n",
       "      <th>f1-score</th>\n",
       "    </tr>\n",
       "  </thead>\n",
       "  <tbody>\n",
       "    <tr>\n",
       "      <th>4</th>\n",
       "      <td>Voting Classifier</td>\n",
       "      <td>0.82243</td>\n",
       "      <td>0.716418</td>\n",
       "    </tr>\n",
       "    <tr>\n",
       "      <th>5</th>\n",
       "      <td>Bagging Classifier</td>\n",
       "      <td>0.82243</td>\n",
       "      <td>0.712121</td>\n",
       "    </tr>\n",
       "    <tr>\n",
       "      <th>6</th>\n",
       "      <td>Neural Network</td>\n",
       "      <td>0.817757</td>\n",
       "      <td>0.697674</td>\n",
       "    </tr>\n",
       "    <tr>\n",
       "      <th>2</th>\n",
       "      <td>Random Forest</td>\n",
       "      <td>0.808411</td>\n",
       "      <td>0.691729</td>\n",
       "    </tr>\n",
       "    <tr>\n",
       "      <th>1</th>\n",
       "      <td>Extra Trees</td>\n",
       "      <td>0.799065</td>\n",
       "      <td>0.690647</td>\n",
       "    </tr>\n",
       "    <tr>\n",
       "      <th>3</th>\n",
       "      <td>Logistic Regression</td>\n",
       "      <td>0.794393</td>\n",
       "      <td>0.690141</td>\n",
       "    </tr>\n",
       "    <tr>\n",
       "      <th>0</th>\n",
       "      <td>Decision Tree</td>\n",
       "      <td>0.78972</td>\n",
       "      <td>0.697987</td>\n",
       "    </tr>\n",
       "  </tbody>\n",
       "</table>\n",
       "</div>"
      ],
      "text/plain": [
       "                 Model  Accuracy  f1-score\n",
       "4    Voting Classifier   0.82243  0.716418\n",
       "5   Bagging Classifier   0.82243  0.712121\n",
       "6       Neural Network  0.817757  0.697674\n",
       "2        Random Forest  0.808411  0.691729\n",
       "1          Extra Trees  0.799065  0.690647\n",
       "3  Logistic Regression  0.794393  0.690141\n",
       "0        Decision Tree   0.78972  0.697987"
      ]
     },
     "execution_count": 101,
     "metadata": {},
     "output_type": "execute_result"
    }
   ],
   "source": [
    "from sklearn.metrics import f1_score\n",
    "\n",
    "#create predictions\n",
    "pred_DTC = model_DTC.predict(X_val_combined)\n",
    "pred_ETC = model_ETC.predict(X_val_combined)\n",
    "pred_RFC = model_RFC.predict(X_val_combined)\n",
    "pred_LR = model_LR.predict(X_val_combined)\n",
    "pred_NN = model_NN.predict(X_val_combined)\n",
    "\n",
    "#predict with ensemble and bagging models\n",
    "pred_Ensemble = model_VC.predict(X_val_combined)\n",
    "pred_Bagging = model_Bagging.predict(X_val_combined)\n",
    "\n",
    "models = [model_DTC, model_ETC, model_RFC, model_LR, model_VC, model_Bagging, model_NN]\n",
    "\n",
    "for model in models:\n",
    "    print(model)\n",
    "    print(classification_report(y_val, model.predict(X_val_combined)))\n",
    "\n",
    "#make a table of the accuracy of each model\n",
    "accuracy = pd.DataFrame(columns=['Model', 'Accuracy', 'f1-score'])\n",
    "accuracy['Model'] = ['Decision Tree', 'Extra Trees', 'Random Forest', 'Logistic Regression', 'Voting Classifier', 'Bagging Classifier', 'Neural Network']\n",
    "for i in range(len(models)):\n",
    "    accuracy['Accuracy'][i] = models[i].score(X_val_combined, y_val)\n",
    "    accuracy['f1-score'][i] = f1_score(y_val, models[i].predict(X_val_combined))\n",
    "\n",
    "accuracy.sort_values(by='Accuracy', ascending=False)"
   ]
  },
  {
   "cell_type": "code",
   "execution_count": 102,
   "id": "66f99da592b753fa",
   "metadata": {
    "ExecuteTime": {
     "end_time": "2023-12-17T17:22:02.789282Z",
     "start_time": "2023-12-17T17:22:02.692024Z"
    },
    "collapsed": false,
    "jupyter": {
     "outputs_hidden": false
    },
    "tags": []
   },
   "outputs": [],
   "source": [
    "#select the best model\n",
    "best_model = model_VC"
   ]
  },
  {
   "cell_type": "markdown",
   "id": "8d2bfd2de025af51",
   "metadata": {},
   "source": [
    "PREDICT ON TEST DATA"
   ]
  },
  {
   "cell_type": "code",
   "execution_count": 103,
   "id": "4291f7b7",
   "metadata": {
    "ExecuteTime": {
     "end_time": "2023-12-17T17:22:02.808236Z",
     "start_time": "2023-12-17T17:22:02.747123Z"
    },
    "tags": []
   },
   "outputs": [],
   "source": [
    "#read\n",
    "data_test = pd.read_csv('Project_test_dataset.csv', index_col='Student ID')\n",
    "\n",
    "#preprocess the test data\n",
    "#filling null values in the Experience Level column using K-Nearest Neighbor Algorithm\n",
    "imputer = KNNImputer(n_neighbors=5).fit(data_test.select_dtypes(include=np.number))\n",
    "filled_data = imputer.transform(data_test.select_dtypes(include=np.number))\n",
    "\n",
    "data_test['Experience Level'] = filled_data.T[0]\n",
    "\n",
    "#filling School Dormitory column using DecisionTreeClassifier\n",
    "modelDT = DecisionTreeClassifier().fit(data_test[data_test['School Dormitory'].notna()].select_dtypes(include=np.number), data_test[data_test['School Dormitory'].notna()]['School Dormitory'])\n",
    "\n",
    "data_test['School Dormitory']=modelDT.predict(data_test.select_dtypes(include=np.number))\n",
    "\n",
    "#scale numerical data\n",
    "X_test_n_scl_st = st_scaler.transform(data_test.select_dtypes(include=np.number))\n",
    "X_test_n_scl_st = pd.DataFrame(X_test_n_scl_st, columns = data_test.select_dtypes(include=np.number).columns).set_index(data_test.select_dtypes(include=np.number).index)\n",
    "\n",
    "#drop irrelevant columns\n",
    "X_test_n_scl_st = X_test_n_scl_st.drop(['Student Social Influence'],axis=1)\n",
    "\n",
    "#encode categorical data\n",
    "X_test_c = data_test.select_dtypes(exclude=np.number).drop('Favourite Study Element', axis=1)\n",
    "X_test_c_encoded = encoder.transform(X_test_c)\n",
    "\n",
    "#combine numerical and categorical data\n",
    "X_test_combined = np.hstack((X_test_n_scl_st, X_test_c_encoded.toarray()))\n",
    "\n",
    "#predict the test data with the best model\n",
    "pred_test = best_model.predict(X_test_combined)\n",
    "\n",
    "#write the predictions to a csv file with two coloms Student ID and Admitted in School\n",
    "pred_test = pd.DataFrame(pred_test, columns=['Admitted in School'], index=data_test.index)\n",
    "pred_test.to_csv('Group15_Version10.csv')"
   ]
  },
  {
   "cell_type": "code",
   "execution_count": 104,
   "id": "2776ad94882f5995",
   "metadata": {
    "ExecuteTime": {
     "end_time": "2023-12-17T17:22:02.809028Z",
     "start_time": "2023-12-17T17:22:02.776844Z"
    },
    "collapsed": false,
    "jupyter": {
     "outputs_hidden": false
    },
    "tags": []
   },
   "outputs": [
    {
     "data": {
      "text/html": [
       "<div>\n",
       "<style scoped>\n",
       "    .dataframe tbody tr th:only-of-type {\n",
       "        vertical-align: middle;\n",
       "    }\n",
       "\n",
       "    .dataframe tbody tr th {\n",
       "        vertical-align: top;\n",
       "    }\n",
       "\n",
       "    .dataframe thead th {\n",
       "        text-align: right;\n",
       "    }\n",
       "</style>\n",
       "<table border=\"1\" class=\"dataframe\">\n",
       "  <thead>\n",
       "    <tr style=\"text-align: right;\">\n",
       "      <th></th>\n",
       "      <th>Admitted in School</th>\n",
       "    </tr>\n",
       "    <tr>\n",
       "      <th>Student ID</th>\n",
       "      <th></th>\n",
       "    </tr>\n",
       "  </thead>\n",
       "  <tbody>\n",
       "    <tr>\n",
       "      <th>836</th>\n",
       "      <td>1</td>\n",
       "    </tr>\n",
       "    <tr>\n",
       "      <th>323</th>\n",
       "      <td>1</td>\n",
       "    </tr>\n",
       "    <tr>\n",
       "      <th>117</th>\n",
       "      <td>0</td>\n",
       "    </tr>\n",
       "    <tr>\n",
       "      <th>444</th>\n",
       "      <td>1</td>\n",
       "    </tr>\n",
       "    <tr>\n",
       "      <th>619</th>\n",
       "      <td>1</td>\n",
       "    </tr>\n",
       "    <tr>\n",
       "      <th>...</th>\n",
       "      <td>...</td>\n",
       "    </tr>\n",
       "    <tr>\n",
       "      <th>21</th>\n",
       "      <td>0</td>\n",
       "    </tr>\n",
       "    <tr>\n",
       "      <th>366</th>\n",
       "      <td>0</td>\n",
       "    </tr>\n",
       "    <tr>\n",
       "      <th>890</th>\n",
       "      <td>0</td>\n",
       "    </tr>\n",
       "    <tr>\n",
       "      <th>749</th>\n",
       "      <td>0</td>\n",
       "    </tr>\n",
       "    <tr>\n",
       "      <th>653</th>\n",
       "      <td>0</td>\n",
       "    </tr>\n",
       "  </tbody>\n",
       "</table>\n",
       "<p>176 rows × 1 columns</p>\n",
       "</div>"
      ],
      "text/plain": [
       "            Admitted in School\n",
       "Student ID                    \n",
       "836                          1\n",
       "323                          1\n",
       "117                          0\n",
       "444                          1\n",
       "619                          1\n",
       "...                        ...\n",
       "21                           0\n",
       "366                          0\n",
       "890                          0\n",
       "749                          0\n",
       "653                          0\n",
       "\n",
       "[176 rows x 1 columns]"
      ]
     },
     "execution_count": 104,
     "metadata": {},
     "output_type": "execute_result"
    }
   ],
   "source": [
    "pred_test"
   ]
  },
  {
   "cell_type": "code",
   "execution_count": 105,
   "id": "76a17c9e-c168-4601-86c9-7941a29e90d6",
   "metadata": {
    "tags": []
   },
   "outputs": [
    {
     "data": {
      "text/plain": [
       "<Axes: xlabel='Admitted in School', ylabel='count'>"
      ]
     },
     "execution_count": 105,
     "metadata": {},
     "output_type": "execute_result"
    },
    {
     "data": {
      "image/png": "[encoded data removed]",
      "text/plain": [
       "<Figure size 640x480 with 1 Axes>"
      ]
     },
     "metadata": {},
     "output_type": "display_data"
    }
   ],
   "source": [
    "sns.countplot(x='Admitted in School', data=pred_test)"
   ]
  },
  {
   "cell_type": "code",
   "execution_count": 115,
   "id": "5b7497fe-43d1-4b63-a323-04d4c63dfaa5",
   "metadata": {
    "tags": []
   },
   "outputs": [],
   "source": [
    "fb = pd.DataFrame(data_test, columns=['Financial Background'], index=data_test.index)"
   ]
  },
  {
   "cell_type": "code",
   "execution_count": 116,
   "id": "3bbe9187-f67f-40c9-8884-05e4a6306037",
   "metadata": {
    "tags": []
   },
   "outputs": [],
   "source": [
    "FinancialBack_outcome = pd.merge(fb, pred_test, left_index=True, right_index=True)"
   ]
  },
  {
   "cell_type": "code",
   "execution_count": 117,
   "id": "60dfed31-d94a-41f2-9385-5149681b7d29",
   "metadata": {
    "tags": []
   },
   "outputs": [
    {
     "data": {
      "text/html": [
       "<div>\n",
       "<style scoped>\n",
       "    .dataframe tbody tr th:only-of-type {\n",
       "        vertical-align: middle;\n",
       "    }\n",
       "\n",
       "    .dataframe tbody tr th {\n",
       "        vertical-align: top;\n",
       "    }\n",
       "\n",
       "    .dataframe thead th {\n",
       "        text-align: right;\n",
       "    }\n",
       "</style>\n",
       "<table border=\"1\" class=\"dataframe\">\n",
       "  <thead>\n",
       "    <tr style=\"text-align: right;\">\n",
       "      <th></th>\n",
       "      <th>Financial Background</th>\n",
       "      <th>Admitted in School</th>\n",
       "    </tr>\n",
       "    <tr>\n",
       "      <th>Student ID</th>\n",
       "      <th></th>\n",
       "      <th></th>\n",
       "    </tr>\n",
       "  </thead>\n",
       "  <tbody>\n",
       "    <tr>\n",
       "      <th>836</th>\n",
       "      <td>83.1583</td>\n",
       "      <td>1</td>\n",
       "    </tr>\n",
       "    <tr>\n",
       "      <th>323</th>\n",
       "      <td>12.3500</td>\n",
       "      <td>1</td>\n",
       "    </tr>\n",
       "    <tr>\n",
       "      <th>117</th>\n",
       "      <td>7.7500</td>\n",
       "      <td>0</td>\n",
       "    </tr>\n",
       "    <tr>\n",
       "      <th>444</th>\n",
       "      <td>13.0000</td>\n",
       "      <td>1</td>\n",
       "    </tr>\n",
       "    <tr>\n",
       "      <th>619</th>\n",
       "      <td>39.0000</td>\n",
       "      <td>1</td>\n",
       "    </tr>\n",
       "    <tr>\n",
       "      <th>...</th>\n",
       "      <td>...</td>\n",
       "      <td>...</td>\n",
       "    </tr>\n",
       "    <tr>\n",
       "      <th>21</th>\n",
       "      <td>26.0000</td>\n",
       "      <td>0</td>\n",
       "    </tr>\n",
       "    <tr>\n",
       "      <th>366</th>\n",
       "      <td>7.2500</td>\n",
       "      <td>0</td>\n",
       "    </tr>\n",
       "    <tr>\n",
       "      <th>890</th>\n",
       "      <td>30.0000</td>\n",
       "      <td>0</td>\n",
       "    </tr>\n",
       "    <tr>\n",
       "      <th>749</th>\n",
       "      <td>53.1000</td>\n",
       "      <td>0</td>\n",
       "    </tr>\n",
       "    <tr>\n",
       "      <th>653</th>\n",
       "      <td>8.4333</td>\n",
       "      <td>0</td>\n",
       "    </tr>\n",
       "  </tbody>\n",
       "</table>\n",
       "<p>176 rows × 2 columns</p>\n",
       "</div>"
      ],
      "text/plain": [
       "            Financial Background  Admitted in School\n",
       "Student ID                                          \n",
       "836                      83.1583                   1\n",
       "323                      12.3500                   1\n",
       "117                       7.7500                   0\n",
       "444                      13.0000                   1\n",
       "619                      39.0000                   1\n",
       "...                          ...                 ...\n",
       "21                       26.0000                   0\n",
       "366                       7.2500                   0\n",
       "890                      30.0000                   0\n",
       "749                      53.1000                   0\n",
       "653                       8.4333                   0\n",
       "\n",
       "[176 rows x 2 columns]"
      ]
     },
     "execution_count": 117,
     "metadata": {},
     "output_type": "execute_result"
    }
   ],
   "source": [
    "FinancialBack_outcome "
   ]
  },
  {
   "cell_type": "code",
   "execution_count": 118,
   "id": "e0062909-d67c-4a5b-a19c-be8d5f883aeb",
   "metadata": {
    "tags": []
   },
   "outputs": [
    {
     "data": {
      "image/png": "[encoded data removed]",
      "text/plain": [
       "<Figure size 1000x600 with 1 Axes>"
      ]
     },
     "metadata": {},
     "output_type": "display_data"
    }
   ],
   "source": [
    "\n",
    "numerical_column = 'Financial Background'\n",
    "binary_column = 'Admitted in School'\n",
    "\n",
    "\n",
    "grouped_data = FinancialBack_outcome.groupby(binary_column)[numerical_column].mean()\n",
    "\n",
    "# Plotting a bar chart\n",
    "grouped_data.plot(kind='bar', color=['blue', 'orange'], figsize=(10, 6), legend=True)\n",
    "plt.title('Average Financial Background Comparison')\n",
    "plt.xlabel('Binary Column')\n",
    "plt.ylabel('Average Financial Background')\n",
    "plt.xticks([0, 1], ['0', '1'], rotation=0)\n",
    "plt.show()"
   ]
  },
  {
   "cell_type": "code",
   "execution_count": null,
   "id": "529cf63a-2e95-44a8-90f6-0eb3b458c189",
   "metadata": {},
   "outputs": [],
   "source": []
  },
  {
   "cell_type": "code",
   "execution_count": null,
   "id": "c639b1cc-4efe-4eea-811e-c046c15b4ff4",
   "metadata": {},
   "outputs": [],
   "source": []
  }
 ],
 "metadata": {
  "kernelspec": {
   "display_name": "Python 3 (ipykernel)",
   "language": "python",
   "name": "python3"
  },
  "language_info": {
   "codemirror_mode": {
    "name": "ipython",
    "version": 3
   },
   "file_extension": ".py",
   "mimetype": "text/x-python",
   "name": "python",
   "nbconvert_exporter": "python",
   "pygments_lexer": "ipython3",
   "version": "3.11.4"
  }
 },
 "nbformat": 4,
 "nbformat_minor": 5
}
